{
  "cells": [
    {
      "cell_type": "markdown",
      "metadata": {
        "id": "zyYfNTMbZ5f7"
      },
      "source": [
        "\n",
        "# Project Title : Qunatitative Analysis of Stocks\n",
        "\n"
      ]
    },
    {
      "cell_type": "markdown",
      "metadata": {
        "id": "KWFa4oRBZ5f-"
      },
      "source": [
        "# Purpose\n",
        "  Quantitative analysis can assess the risk associated with investing in a particular stock by analyzing factors such as volatility and historical performance based on factors such as correlation, and expected return.\n",
        "\n",
        "  This helps investors understand the potential downside and volatility of a stock.Quantitative analysis can be used to identify market trends and signals for buying or selling stocks."
      ]
    },
    {
      "cell_type": "markdown",
      "metadata": {
        "id": "JLt1rrsvZ5f-"
      },
      "source": [
        "#                               Importing required libraries"
      ]
    },
    {
      "cell_type": "code",
      "execution_count": 13,
      "metadata": {
        "id": "uIpMTO1yZ5f_"
      },
      "outputs": [],
      "source": [
        "import pandas as pd\n",
        "import matplotlib.pyplot as plt\n",
        "import plotly.express as px\n",
        "import plotly.graph_objects as go\n",
        "import plotly.io as pio\n",
        "from plotly.subplots import make_subplots"
      ]
    },
    {
      "cell_type": "markdown",
      "metadata": {
        "id": "DaGDfrHpZ5f_"
      },
      "source": [
        "# Reading data from csv file"
      ]
    },
    {
      "cell_type": "code",
      "execution_count": 14,
      "metadata": {
        "colab": {
          "base_uri": "https://localhost:8080/"
        },
        "id": "Hrbto40GZ5gA",
        "outputId": "6b9fb69a-6134-4b02-c5e0-dc5467e59808"
      },
      "outputs": [
        {
          "output_type": "stream",
          "name": "stdout",
          "text": [
            "    Ticker        Date        Open        High         Low       Close  \\\n",
            "0     AAPL  07-02-2023  150.639999  155.229996  150.639999  154.649994   \n",
            "1     AAPL  08-02-2023  153.880005  154.580002  151.169998  151.919998   \n",
            "2     AAPL  09-02-2023  153.779999  154.330002  150.419998  150.869995   \n",
            "3     AAPL  10-02-2023  149.460007  151.339996  149.220001  151.009995   \n",
            "4     AAPL  13-02-2023  150.949997  154.259995  150.919998  153.850006   \n",
            "..     ...         ...         ...         ...         ...         ...   \n",
            "243   GOOG  01-05-2023  107.720001  108.680000  107.500000  107.709999   \n",
            "244   GOOG  02-05-2023  107.660004  107.730003  104.500000  105.980003   \n",
            "245   GOOG  03-05-2023  106.220001  108.129997  105.620003  106.120003   \n",
            "246   GOOG  04-05-2023  106.160004  106.300003  104.699997  105.209999   \n",
            "247   GOOG  05-05-2023  105.320000  106.440002  104.738998  106.214996   \n",
            "\n",
            "      Adj Close    Volume  \n",
            "0    154.414230  83322600  \n",
            "1    151.688400  64120100  \n",
            "2    150.639999  56007100  \n",
            "3    151.009995  57450700  \n",
            "4    153.850006  62199000  \n",
            "..          ...       ...  \n",
            "243  107.709999  20926300  \n",
            "244  105.980003  20343100  \n",
            "245  106.120003  17116300  \n",
            "246  105.209999  19780600  \n",
            "247  106.214996  20705300  \n",
            "\n",
            "[248 rows x 8 columns]\n"
          ]
        }
      ],
      "source": [
        "#importing the data using pandas\n",
        "data=pd.read_csv('/content/stocks.csv',delimiter=',')\n",
        "#printing the imported data\n",
        "print(data)\n",
        "\n",
        "\n"
      ]
    },
    {
      "cell_type": "markdown",
      "metadata": {
        "id": "VRte9E1eZ5gA"
      },
      "source": [
        "The dataset contains the following columns for stock market data:\n",
        "\n",
        "- Ticker: The stock ticker symbol.\n",
        "- Date: The trading date.\n",
        "- Open: The opening price of the stock for the day.\n",
        "- High: The highest price of the stock during the day.\n",
        "- Low: The lowest price of the stock during the day.\n",
        "- Close: The closing price of the stock for the day.\n",
        "- Adj Close: The adjusted closing price, which accounts for all corporate actions such as dividends, stock splits, etc.\n",
        "- Volume: The number of shares traded during the day."
      ]
    },
    {
      "cell_type": "markdown",
      "metadata": {
        "id": "CanWti84Z5gA"
      },
      "source": [
        "### Printing first and last five records of data."
      ]
    },
    {
      "cell_type": "code",
      "execution_count": 15,
      "metadata": {
        "colab": {
          "base_uri": "https://localhost:8080/"
        },
        "id": "odSU3MU8Z5gB",
        "outputId": "54ee4ea2-f93c-42f8-bc47-550adf94829d"
      },
      "outputs": [
        {
          "output_type": "stream",
          "name": "stdout",
          "text": [
            "  Ticker        Date        Open        High         Low       Close  \\\n",
            "0   AAPL  07-02-2023  150.639999  155.229996  150.639999  154.649994   \n",
            "1   AAPL  08-02-2023  153.880005  154.580002  151.169998  151.919998   \n",
            "2   AAPL  09-02-2023  153.779999  154.330002  150.419998  150.869995   \n",
            "3   AAPL  10-02-2023  149.460007  151.339996  149.220001  151.009995   \n",
            "4   AAPL  13-02-2023  150.949997  154.259995  150.919998  153.850006   \n",
            "\n",
            "    Adj Close    Volume  \n",
            "0  154.414230  83322600  \n",
            "1  151.688400  64120100  \n",
            "2  150.639999  56007100  \n",
            "3  151.009995  57450700  \n",
            "4  153.850006  62199000  \n",
            "    Ticker        Date        Open        High         Low       Close  \\\n",
            "243   GOOG  01-05-2023  107.720001  108.680000  107.500000  107.709999   \n",
            "244   GOOG  02-05-2023  107.660004  107.730003  104.500000  105.980003   \n",
            "245   GOOG  03-05-2023  106.220001  108.129997  105.620003  106.120003   \n",
            "246   GOOG  04-05-2023  106.160004  106.300003  104.699997  105.209999   \n",
            "247   GOOG  05-05-2023  105.320000  106.440002  104.738998  106.214996   \n",
            "\n",
            "      Adj Close    Volume  \n",
            "243  107.709999  20926300  \n",
            "244  105.980003  20343100  \n",
            "245  106.120003  17116300  \n",
            "246  105.209999  19780600  \n",
            "247  106.214996  20705300  \n"
          ]
        }
      ],
      "source": [
        "#getting first five records\n",
        "print(data.head())\n",
        "#getting last five records\n",
        "print(data.tail())"
      ]
    },
    {
      "cell_type": "markdown",
      "metadata": {
        "id": "cqvaRAEQZ5gB"
      },
      "source": [
        "### Getting count of unique values."
      ]
    },
    {
      "cell_type": "code",
      "execution_count": 16,
      "metadata": {
        "colab": {
          "base_uri": "https://localhost:8080/"
        },
        "id": "ZR7u4SWQZ5gB",
        "outputId": "62c9bf5c-3576-4c63-dcb8-6e7d1639ac8d"
      },
      "outputs": [
        {
          "output_type": "execute_result",
          "data": {
            "text/plain": [
              "Ticker         4\n",
              "Date          62\n",
              "Open         244\n",
              "High         248\n",
              "Low          248\n",
              "Close        244\n",
              "Adj Close    244\n",
              "Volume       248\n",
              "dtype: int64"
            ]
          },
          "metadata": {},
          "execution_count": 16
        }
      ],
      "source": [
        "data.nunique()"
      ]
    },
    {
      "cell_type": "markdown",
      "metadata": {
        "id": "ojoaE04EZ5gB"
      },
      "source": [
        "Above data indicates how many unique values do each column is having."
      ]
    },
    {
      "cell_type": "markdown",
      "metadata": {
        "id": "NxqFjWe7Z5gB"
      },
      "source": [
        "# Shape\n"
      ]
    },
    {
      "cell_type": "code",
      "execution_count": 6,
      "metadata": {
        "colab": {
          "base_uri": "https://localhost:8080/"
        },
        "id": "ruXVKTcBZ5gC",
        "outputId": "f122d9ad-5f7f-483d-b416-4c3b9ee902e1"
      },
      "outputs": [
        {
          "output_type": "execute_result",
          "data": {
            "text/plain": [
              "(248, 8)"
            ]
          },
          "metadata": {},
          "execution_count": 6
        }
      ],
      "source": [
        "data.shape"
      ]
    },
    {
      "cell_type": "markdown",
      "metadata": {
        "id": "nj_Pbh_7Z5gC"
      },
      "source": [
        "(248, 8) indicates our data consisting of 248 rows and 8 columns."
      ]
    },
    {
      "cell_type": "markdown",
      "metadata": {
        "id": "8N9wHIUQZ5gC"
      },
      "source": [
        "# Getting information about data"
      ]
    },
    {
      "cell_type": "code",
      "execution_count": 7,
      "metadata": {
        "colab": {
          "base_uri": "https://localhost:8080/"
        },
        "id": "RUU7XxglZ5gC",
        "outputId": "caf71923-60f8-48bf-8442-86412aa39f80"
      },
      "outputs": [
        {
          "output_type": "stream",
          "name": "stdout",
          "text": [
            "<class 'pandas.core.frame.DataFrame'>\n",
            "RangeIndex: 248 entries, 0 to 247\n",
            "Data columns (total 8 columns):\n",
            " #   Column     Non-Null Count  Dtype  \n",
            "---  ------     --------------  -----  \n",
            " 0   Ticker     248 non-null    object \n",
            " 1   Date       248 non-null    object \n",
            " 2   Open       248 non-null    float64\n",
            " 3   High       248 non-null    float64\n",
            " 4   Low        248 non-null    float64\n",
            " 5   Close      248 non-null    float64\n",
            " 6   Adj Close  248 non-null    float64\n",
            " 7   Volume     248 non-null    int64  \n",
            "dtypes: float64(5), int64(1), object(2)\n",
            "memory usage: 15.6+ KB\n",
            "None\n"
          ]
        }
      ],
      "source": [
        "#getting information of data\n",
        "print(data.info())\n"
      ]
    },
    {
      "cell_type": "markdown",
      "metadata": {
        "id": "lA0v07_3Z5gC"
      },
      "source": [
        "From above data we can say that some of the columns like Ticker are string data and some like open are float type and volume is int data type."
      ]
    },
    {
      "cell_type": "markdown",
      "metadata": {
        "id": "m4JKZmunZ5gC"
      },
      "source": [
        "# Statistical information of data"
      ]
    },
    {
      "cell_type": "code",
      "execution_count": 8,
      "metadata": {
        "colab": {
          "base_uri": "https://localhost:8080/"
        },
        "id": "afokfrLhZ5gC",
        "outputId": "6d64e0c2-35ef-4123-f614-5e84240a4dba"
      },
      "outputs": [
        {
          "output_type": "stream",
          "name": "stdout",
          "text": [
            "             Open        High         Low       Close   Adj Close  \\\n",
            "count  248.000000  248.000000  248.000000  248.000000  248.000000   \n",
            "mean   215.252093  217.919662  212.697452  215.381674  215.362697   \n",
            "std     91.691315   92.863023   90.147881   91.461989   91.454750   \n",
            "min     89.540001   90.129997   88.860001   89.349998   89.349998   \n",
            "25%    135.235004  137.440004  134.822495  136.347498  136.347498   \n",
            "50%    208.764999  212.614998  208.184998  209.920006  209.920006   \n",
            "75%    304.177506  307.565002  295.437500  303.942505  303.942505   \n",
            "max    372.410004  373.829987  361.739990  366.829987  366.829987   \n",
            "\n",
            "             Volume  \n",
            "count  2.480000e+02  \n",
            "mean   3.208210e+07  \n",
            "std    2.233590e+07  \n",
            "min    2.657900e+06  \n",
            "25%    1.714180e+07  \n",
            "50%    2.734000e+07  \n",
            "75%    4.771772e+07  \n",
            "max    1.133164e+08  \n"
          ]
        }
      ],
      "source": [
        "#getting statistical information of data\n",
        "descriptive_data = data.describe()\n",
        "print(descriptive_data)\n"
      ]
    },
    {
      "cell_type": "markdown",
      "metadata": {
        "id": "1GAuQ5_lZ5gC"
      },
      "source": [
        "From above data we are getting statistical information like mean, standard deviation, minimum,maximum values."
      ]
    },
    {
      "cell_type": "markdown",
      "metadata": {
        "id": "NrN3NQT2Z5gD"
      },
      "source": [
        "### Checking for missing values."
      ]
    },
    {
      "cell_type": "code",
      "execution_count": 9,
      "metadata": {
        "colab": {
          "base_uri": "https://localhost:8080/"
        },
        "id": "iX59ceOAZ5gD",
        "outputId": "1a78ef81-8815-4aa8-821a-d2f62cee8ed8"
      },
      "outputs": [
        {
          "output_type": "execute_result",
          "data": {
            "text/plain": [
              "Ticker       0\n",
              "Date         0\n",
              "Open         0\n",
              "High         0\n",
              "Low          0\n",
              "Close        0\n",
              "Adj Close    0\n",
              "Volume       0\n",
              "dtype: int64"
            ]
          },
          "metadata": {},
          "execution_count": 9
        }
      ],
      "source": [
        "# check for missing values\n",
        "data.isnull().sum()"
      ]
    },
    {
      "cell_type": "markdown",
      "metadata": {
        "id": "ZtsItgfgZ5gD"
      },
      "source": [
        "from above data we can say that our data is not having any null values."
      ]
    },
    {
      "cell_type": "markdown",
      "metadata": {
        "id": "q9FlKdl4Z5gD"
      },
      "source": [
        "# Processing data and cleaning the data"
      ]
    },
    {
      "cell_type": "code",
      "execution_count": 10,
      "metadata": {
        "colab": {
          "base_uri": "https://localhost:8080/"
        },
        "id": "MlphxASVZ5gD",
        "outputId": "30e7b5a5-1b7a-48a7-d346-bdcb9cdeae93"
      },
      "outputs": [
        {
          "output_type": "stream",
          "name": "stdout",
          "text": [
            "    Ticker        Date        Open        High         Low       Close  \\\n",
            "0     AAPL  07-02-2023  150.639999  155.229996  150.639999  154.649994   \n",
            "1     AAPL  08-02-2023  153.880005  154.580002  151.169998  151.919998   \n",
            "2     AAPL  09-02-2023  153.779999  154.330002  150.419998  150.869995   \n",
            "3     AAPL  10-02-2023  149.460007  151.339996  149.220001  151.009995   \n",
            "4     AAPL  13-02-2023  150.949997  154.259995  150.919998  153.850006   \n",
            "..     ...         ...         ...         ...         ...         ...   \n",
            "243   GOOG  01-05-2023  107.720001  108.680000  107.500000  107.709999   \n",
            "244   GOOG  02-05-2023  107.660004  107.730003  104.500000  105.980003   \n",
            "245   GOOG  03-05-2023  106.220001  108.129997  105.620003  106.120003   \n",
            "246   GOOG  04-05-2023  106.160004  106.300003  104.699997  105.209999   \n",
            "247   GOOG  05-05-2023  105.320000  106.440002  104.738998  106.214996   \n",
            "\n",
            "      Adj Close    Volume  \n",
            "0    154.414230  83322600  \n",
            "1    151.688400  64120100  \n",
            "2    150.639999  56007100  \n",
            "3    151.009995  57450700  \n",
            "4    153.850006  62199000  \n",
            "..          ...       ...  \n",
            "243  107.709999  20926300  \n",
            "244  105.980003  20343100  \n",
            "245  106.120003  17116300  \n",
            "246  105.209999  19780600  \n",
            "247  106.214996  20705300  \n",
            "\n",
            "[248 rows x 8 columns]\n"
          ]
        }
      ],
      "source": [
        "#removing duplicates\n",
        "clean_data=data.drop_duplicates()\n",
        "print(clean_data)"
      ]
    },
    {
      "cell_type": "markdown",
      "metadata": {
        "id": "4q5AMKlCZ5gD"
      },
      "source": [
        "# Descriptive Statistics for each stock by grouping"
      ]
    },
    {
      "cell_type": "code",
      "execution_count": 11,
      "metadata": {
        "colab": {
          "base_uri": "https://localhost:8080/"
        },
        "id": "3f9wiz4MZ5gD",
        "outputId": "663e297b-f2c4-4fa6-95c5-041e27e78e16"
      },
      "outputs": [
        {
          "output_type": "stream",
          "name": "stdout",
          "text": [
            "        count        mean        std         min         25%         50%  \\\n",
            "Ticker                                                                     \n",
            "AAPL     62.0  157.779839   7.224608  144.380005  151.489998  158.400002   \n",
            "GOOG     62.0  100.381919   6.197598   89.540001   94.532499  102.680000   \n",
            "MSFT     62.0  274.735969  17.324808  246.550003  257.410004  277.110001   \n",
            "NFLX     62.0  328.110643  18.467142  287.339996  317.137497  325.649994   \n",
            "\n",
            "               75%         max  \n",
            "Ticker                          \n",
            "AAPL    164.702503  170.979996  \n",
            "GOOG    105.859999  107.800003  \n",
            "MSFT    285.825005  307.760010  \n",
            "NFLX    340.674995  372.410004  \n"
          ]
        }
      ],
      "source": [
        "# Descriptive Statistics for each stock with opening stock price\n",
        "descriptive_stats = clean_data.groupby('Ticker')['Open'].describe()\n",
        "\n",
        "print(descriptive_stats)"
      ]
    },
    {
      "cell_type": "markdown",
      "metadata": {
        "id": "sbzYvXgCZ5gE"
      },
      "source": [
        "# Time Series Analysis"
      ]
    },
    {
      "cell_type": "code",
      "execution_count": 20,
      "metadata": {
        "colab": {
          "base_uri": "https://localhost:8080/",
          "height": 542
        },
        "id": "MOqkB3KJZ5gE",
        "outputId": "5566632a-3cca-49d6-ac19-ebf4e03da1d0"
      },
      "outputs": [
        {
          "output_type": "display_data",
          "data": {
            "text/html": [
              "<html>\n",
              "<head><meta charset=\"utf-8\" /></head>\n",
              "<body>\n",
              "    <div>            <script src=\"https://cdnjs.cloudflare.com/ajax/libs/mathjax/2.7.5/MathJax.js?config=TeX-AMS-MML_SVG\"></script><script type=\"text/javascript\">if (window.MathJax && window.MathJax.Hub && window.MathJax.Hub.Config) {window.MathJax.Hub.Config({SVG: {font: \"STIX-Web\"}});}</script>                <script type=\"text/javascript\">window.PlotlyConfig = {MathJaxConfig: 'local'};</script>\n",
              "        <script charset=\"utf-8\" src=\"https://cdn.plot.ly/plotly-2.24.1.min.js\"></script>                <div id=\"0b3b02bd-ca7c-4326-b100-2405bf13d140\" class=\"plotly-graph-div\" style=\"height:525px; width:100%;\"></div>            <script type=\"text/javascript\">                                    window.PLOTLYENV=window.PLOTLYENV || {};                                    if (document.getElementById(\"0b3b02bd-ca7c-4326-b100-2405bf13d140\")) {                    Plotly.newPlot(                        \"0b3b02bd-ca7c-4326-b100-2405bf13d140\",                        [{\"name\":\"AAPL\",\"x\":[\"2023-02-07T00:00:00\",\"2023-02-08T00:00:00\",\"2023-02-09T00:00:00\",\"2023-02-10T00:00:00\",\"2023-02-13T00:00:00\",\"2023-02-14T00:00:00\",\"2023-02-15T00:00:00\",\"2023-02-16T00:00:00\",\"2023-02-17T00:00:00\",\"2023-02-21T00:00:00\",\"2023-02-22T00:00:00\",\"2023-02-23T00:00:00\",\"2023-02-24T00:00:00\",\"2023-02-27T00:00:00\",\"2023-02-28T00:00:00\",\"2023-03-01T00:00:00\",\"2023-03-02T00:00:00\",\"2023-03-03T00:00:00\",\"2023-03-06T00:00:00\",\"2023-03-07T00:00:00\",\"2023-03-08T00:00:00\",\"2023-03-09T00:00:00\",\"2023-03-10T00:00:00\",\"2023-03-13T00:00:00\",\"2023-03-14T00:00:00\",\"2023-03-15T00:00:00\",\"2023-03-16T00:00:00\",\"2023-03-17T00:00:00\",\"2023-03-20T00:00:00\",\"2023-03-21T00:00:00\",\"2023-03-22T00:00:00\",\"2023-03-23T00:00:00\",\"2023-03-24T00:00:00\",\"2023-03-27T00:00:00\",\"2023-03-28T00:00:00\",\"2023-03-29T00:00:00\",\"2023-03-30T00:00:00\",\"2023-03-31T00:00:00\",\"2023-04-03T00:00:00\",\"2023-04-04T00:00:00\",\"2023-04-05T00:00:00\",\"2023-04-06T00:00:00\",\"2023-04-10T00:00:00\",\"2023-04-11T00:00:00\",\"2023-04-12T00:00:00\",\"2023-04-13T00:00:00\",\"2023-04-14T00:00:00\",\"2023-04-17T00:00:00\",\"2023-04-18T00:00:00\",\"2023-04-19T00:00:00\",\"2023-04-20T00:00:00\",\"2023-04-21T00:00:00\",\"2023-04-24T00:00:00\",\"2023-04-25T00:00:00\",\"2023-04-26T00:00:00\",\"2023-04-27T00:00:00\",\"2023-04-28T00:00:00\",\"2023-05-01T00:00:00\",\"2023-05-02T00:00:00\",\"2023-05-03T00:00:00\",\"2023-05-04T00:00:00\",\"2023-05-05T00:00:00\"],\"y\":[150.6399994,153.8800049,153.7799988,149.4600067,150.9499969,152.1199951,153.1100006,153.5099945,152.3500061,150.1999969,148.8699951,150.0899963,147.1100006,147.7100067,147.0500031,146.8300018,144.3800049,148.0399933,153.7899933,153.6999969,152.8099976,153.5599976,150.2100067,147.8099976,151.2799988,151.1900024,152.1600037,156.0800018,155.0700073,157.3200073,159.3000031,158.8300018,158.8600006,159.9400024,157.9700012,159.3699951,161.5299988,162.4400024,164.2700043,166.6000061,164.7400055,162.4299927,161.4199982,162.3500061,161.2200012,161.6300049,164.5899963,165.0899963,166.1000061,165.8000031,166.0899963,165.0500031,165.0,165.1900024,163.0599976,165.1900024,168.4900055,169.2799988,170.0899963,169.5,164.8899994,170.9799957],\"type\":\"scatter\",\"xaxis\":\"x\",\"yaxis\":\"y\"},{\"name\":\"GOOG\",\"x\":[\"2023-02-07T00:00:00\",\"2023-02-08T00:00:00\",\"2023-02-09T00:00:00\",\"2023-02-10T00:00:00\",\"2023-02-13T00:00:00\",\"2023-02-14T00:00:00\",\"2023-02-15T00:00:00\",\"2023-02-16T00:00:00\",\"2023-02-17T00:00:00\",\"2023-02-21T00:00:00\",\"2023-02-22T00:00:00\",\"2023-02-23T00:00:00\",\"2023-02-24T00:00:00\",\"2023-02-27T00:00:00\",\"2023-02-28T00:00:00\",\"2023-03-01T00:00:00\",\"2023-03-02T00:00:00\",\"2023-03-03T00:00:00\",\"2023-03-06T00:00:00\",\"2023-03-07T00:00:00\",\"2023-03-08T00:00:00\",\"2023-03-09T00:00:00\",\"2023-03-10T00:00:00\",\"2023-03-13T00:00:00\",\"2023-03-14T00:00:00\",\"2023-03-15T00:00:00\",\"2023-03-16T00:00:00\",\"2023-03-17T00:00:00\",\"2023-03-20T00:00:00\",\"2023-03-21T00:00:00\",\"2023-03-22T00:00:00\",\"2023-03-23T00:00:00\",\"2023-03-24T00:00:00\",\"2023-03-27T00:00:00\",\"2023-03-28T00:00:00\",\"2023-03-29T00:00:00\",\"2023-03-30T00:00:00\",\"2023-03-31T00:00:00\",\"2023-04-03T00:00:00\",\"2023-04-04T00:00:00\",\"2023-04-05T00:00:00\",\"2023-04-06T00:00:00\",\"2023-04-10T00:00:00\",\"2023-04-11T00:00:00\",\"2023-04-12T00:00:00\",\"2023-04-13T00:00:00\",\"2023-04-14T00:00:00\",\"2023-04-17T00:00:00\",\"2023-04-18T00:00:00\",\"2023-04-19T00:00:00\",\"2023-04-20T00:00:00\",\"2023-04-21T00:00:00\",\"2023-04-24T00:00:00\",\"2023-04-25T00:00:00\",\"2023-04-26T00:00:00\",\"2023-04-27T00:00:00\",\"2023-04-28T00:00:00\",\"2023-05-01T00:00:00\",\"2023-05-02T00:00:00\",\"2023-05-03T00:00:00\",\"2023-05-04T00:00:00\",\"2023-05-05T00:00:00\"],\"y\":[103.6299973,102.6900024,100.5400009,95.73999786,95.01000214,94.66000366,94.73999786,95.54000092,95.06999969,93.23999786,91.93399811,92.12999725,89.62999725,90.08999634,89.54000092,90.16000366,89.86000061,92.73999786,94.36000061,95.41999817,94.40499878,94.48999786,92.5,90.56500244,93.06999969,93.54000092,96.56999969,100.8399963,101.0599976,101.9800034,105.1399994,105.8899994,105.7399979,105.3199997,103.0,102.7200012,101.4400024,101.7099991,102.6699982,104.8399963,106.1200027,105.7699966,107.3899994,106.9199982,107.3899994,106.4700012,107.6900024,105.4300003,107.0,104.2149963,104.6500015,106.0899963,106.0500031,106.6100006,105.5599976,105.2300034,107.8000031,107.7200012,107.6600037,106.2200012,106.1600037,105.3199997],\"type\":\"scatter\",\"xaxis\":\"x\",\"yaxis\":\"y\"},{\"name\":\"MSFT\",\"x\":[\"2023-02-07T00:00:00\",\"2023-02-08T00:00:00\",\"2023-02-09T00:00:00\",\"2023-02-10T00:00:00\",\"2023-02-13T00:00:00\",\"2023-02-14T00:00:00\",\"2023-02-15T00:00:00\",\"2023-02-16T00:00:00\",\"2023-02-17T00:00:00\",\"2023-02-21T00:00:00\",\"2023-02-22T00:00:00\",\"2023-02-23T00:00:00\",\"2023-02-24T00:00:00\",\"2023-02-27T00:00:00\",\"2023-02-28T00:00:00\",\"2023-03-01T00:00:00\",\"2023-03-02T00:00:00\",\"2023-03-03T00:00:00\",\"2023-03-06T00:00:00\",\"2023-03-07T00:00:00\",\"2023-03-08T00:00:00\",\"2023-03-09T00:00:00\",\"2023-03-10T00:00:00\",\"2023-03-13T00:00:00\",\"2023-03-14T00:00:00\",\"2023-03-15T00:00:00\",\"2023-03-16T00:00:00\",\"2023-03-17T00:00:00\",\"2023-03-20T00:00:00\",\"2023-03-21T00:00:00\",\"2023-03-22T00:00:00\",\"2023-03-23T00:00:00\",\"2023-03-24T00:00:00\",\"2023-03-27T00:00:00\",\"2023-03-28T00:00:00\",\"2023-03-29T00:00:00\",\"2023-03-30T00:00:00\",\"2023-03-31T00:00:00\",\"2023-04-03T00:00:00\",\"2023-04-04T00:00:00\",\"2023-04-05T00:00:00\",\"2023-04-06T00:00:00\",\"2023-04-10T00:00:00\",\"2023-04-11T00:00:00\",\"2023-04-12T00:00:00\",\"2023-04-13T00:00:00\",\"2023-04-14T00:00:00\",\"2023-04-17T00:00:00\",\"2023-04-18T00:00:00\",\"2023-04-19T00:00:00\",\"2023-04-20T00:00:00\",\"2023-04-21T00:00:00\",\"2023-04-24T00:00:00\",\"2023-04-25T00:00:00\",\"2023-04-26T00:00:00\",\"2023-04-27T00:00:00\",\"2023-04-28T00:00:00\",\"2023-05-01T00:00:00\",\"2023-05-02T00:00:00\",\"2023-05-03T00:00:00\",\"2023-05-04T00:00:00\",\"2023-05-05T00:00:00\"],\"y\":[260.5299988,273.2000122,273.7999878,261.5299988,267.6400146,272.6700134,268.3200073,264.019989,259.3900146,254.4799957,254.0899963,255.5599976,249.9600067,252.4600067,249.0700073,250.7599945,246.5500031,252.1900024,256.4299927,256.2999878,254.0399933,255.8200073,251.0800018,247.3999939,256.75,259.980011,265.2099915,278.2600098,276.980011,274.8800049,273.3999939,277.9400024,277.2399902,280.5,275.7900085,278.9599915,284.230011,283.730011,286.519989,287.230011,285.8500061,283.2099915,289.2099915,285.75,284.7900085,283.5899963,287.0,289.9299927,291.5700073,285.9899902,285.25,285.0100098,282.0899963,279.5100098,296.7000122,295.9700012,304.0100098,306.9700012,307.7600098,306.6199951,306.2399902,305.7200012],\"type\":\"scatter\",\"xaxis\":\"x\",\"yaxis\":\"y\"},{\"name\":\"NFLX\",\"x\":[\"2023-02-07T00:00:00\",\"2023-02-08T00:00:00\",\"2023-02-09T00:00:00\",\"2023-02-10T00:00:00\",\"2023-02-13T00:00:00\",\"2023-02-14T00:00:00\",\"2023-02-15T00:00:00\",\"2023-02-16T00:00:00\",\"2023-02-17T00:00:00\",\"2023-02-21T00:00:00\",\"2023-02-22T00:00:00\",\"2023-02-23T00:00:00\",\"2023-02-24T00:00:00\",\"2023-02-27T00:00:00\",\"2023-02-28T00:00:00\",\"2023-03-01T00:00:00\",\"2023-03-02T00:00:00\",\"2023-03-03T00:00:00\",\"2023-03-06T00:00:00\",\"2023-03-07T00:00:00\",\"2023-03-08T00:00:00\",\"2023-03-09T00:00:00\",\"2023-03-10T00:00:00\",\"2023-03-13T00:00:00\",\"2023-03-14T00:00:00\",\"2023-03-15T00:00:00\",\"2023-03-16T00:00:00\",\"2023-03-17T00:00:00\",\"2023-03-20T00:00:00\",\"2023-03-21T00:00:00\",\"2023-03-22T00:00:00\",\"2023-03-23T00:00:00\",\"2023-03-24T00:00:00\",\"2023-03-27T00:00:00\",\"2023-03-28T00:00:00\",\"2023-03-29T00:00:00\",\"2023-03-30T00:00:00\",\"2023-03-31T00:00:00\",\"2023-04-03T00:00:00\",\"2023-04-04T00:00:00\",\"2023-04-05T00:00:00\",\"2023-04-06T00:00:00\",\"2023-04-10T00:00:00\",\"2023-04-11T00:00:00\",\"2023-04-12T00:00:00\",\"2023-04-13T00:00:00\",\"2023-04-14T00:00:00\",\"2023-04-17T00:00:00\",\"2023-04-18T00:00:00\",\"2023-04-19T00:00:00\",\"2023-04-20T00:00:00\",\"2023-04-21T00:00:00\",\"2023-04-24T00:00:00\",\"2023-04-25T00:00:00\",\"2023-04-26T00:00:00\",\"2023-04-27T00:00:00\",\"2023-04-28T00:00:00\",\"2023-05-01T00:00:00\",\"2023-05-02T00:00:00\",\"2023-05-03T00:00:00\",\"2023-05-04T00:00:00\",\"2023-05-05T00:00:00\"],\"y\":[358.5100098,360.019989,372.4100037,359.1600037,349.5,357.5499878,356.6300049,355.0,347.9100037,342.8500061,337.5,331.230011,319.2999878,323.8699951,323.7000122,321.5499878,310.9599915,315.4500122,317.0,312.6799927,309.2900085,312.0799866,297.8999939,287.3399963,295.9700012,292.5100098,304.75,310.0599976,299.7900085,306.3200073,306.3099976,304.6799927,320.6300049,327.5499878,326.0599976,326.2900085,340.269989,340.0499878,341.8299866,348.4899902,345.2999878,339.3399963,335.269989,343.4500122,340.8099976,339.9899902,342.9400024,338.0,335.0,324.2099915,320.3900146,323.0,330.2000122,328.5,321.3599854,324.2999878,325.2399902,329.4400024,325.0,317.5499878,319.0100098,323.6099854],\"type\":\"scatter\",\"xaxis\":\"x\",\"yaxis\":\"y\"}],                        {\"template\":{\"data\":{\"histogram2dcontour\":[{\"type\":\"histogram2dcontour\",\"colorbar\":{\"outlinewidth\":0,\"ticks\":\"\"},\"colorscale\":[[0.0,\"#0d0887\"],[0.1111111111111111,\"#46039f\"],[0.2222222222222222,\"#7201a8\"],[0.3333333333333333,\"#9c179e\"],[0.4444444444444444,\"#bd3786\"],[0.5555555555555556,\"#d8576b\"],[0.6666666666666666,\"#ed7953\"],[0.7777777777777778,\"#fb9f3a\"],[0.8888888888888888,\"#fdca26\"],[1.0,\"#f0f921\"]]}],\"choropleth\":[{\"type\":\"choropleth\",\"colorbar\":{\"outlinewidth\":0,\"ticks\":\"\"}}],\"histogram2d\":[{\"type\":\"histogram2d\",\"colorbar\":{\"outlinewidth\":0,\"ticks\":\"\"},\"colorscale\":[[0.0,\"#0d0887\"],[0.1111111111111111,\"#46039f\"],[0.2222222222222222,\"#7201a8\"],[0.3333333333333333,\"#9c179e\"],[0.4444444444444444,\"#bd3786\"],[0.5555555555555556,\"#d8576b\"],[0.6666666666666666,\"#ed7953\"],[0.7777777777777778,\"#fb9f3a\"],[0.8888888888888888,\"#fdca26\"],[1.0,\"#f0f921\"]]}],\"heatmap\":[{\"type\":\"heatmap\",\"colorbar\":{\"outlinewidth\":0,\"ticks\":\"\"},\"colorscale\":[[0.0,\"#0d0887\"],[0.1111111111111111,\"#46039f\"],[0.2222222222222222,\"#7201a8\"],[0.3333333333333333,\"#9c179e\"],[0.4444444444444444,\"#bd3786\"],[0.5555555555555556,\"#d8576b\"],[0.6666666666666666,\"#ed7953\"],[0.7777777777777778,\"#fb9f3a\"],[0.8888888888888888,\"#fdca26\"],[1.0,\"#f0f921\"]]}],\"heatmapgl\":[{\"type\":\"heatmapgl\",\"colorbar\":{\"outlinewidth\":0,\"ticks\":\"\"},\"colorscale\":[[0.0,\"#0d0887\"],[0.1111111111111111,\"#46039f\"],[0.2222222222222222,\"#7201a8\"],[0.3333333333333333,\"#9c179e\"],[0.4444444444444444,\"#bd3786\"],[0.5555555555555556,\"#d8576b\"],[0.6666666666666666,\"#ed7953\"],[0.7777777777777778,\"#fb9f3a\"],[0.8888888888888888,\"#fdca26\"],[1.0,\"#f0f921\"]]}],\"contourcarpet\":[{\"type\":\"contourcarpet\",\"colorbar\":{\"outlinewidth\":0,\"ticks\":\"\"}}],\"contour\":[{\"type\":\"contour\",\"colorbar\":{\"outlinewidth\":0,\"ticks\":\"\"},\"colorscale\":[[0.0,\"#0d0887\"],[0.1111111111111111,\"#46039f\"],[0.2222222222222222,\"#7201a8\"],[0.3333333333333333,\"#9c179e\"],[0.4444444444444444,\"#bd3786\"],[0.5555555555555556,\"#d8576b\"],[0.6666666666666666,\"#ed7953\"],[0.7777777777777778,\"#fb9f3a\"],[0.8888888888888888,\"#fdca26\"],[1.0,\"#f0f921\"]]}],\"surface\":[{\"type\":\"surface\",\"colorbar\":{\"outlinewidth\":0,\"ticks\":\"\"},\"colorscale\":[[0.0,\"#0d0887\"],[0.1111111111111111,\"#46039f\"],[0.2222222222222222,\"#7201a8\"],[0.3333333333333333,\"#9c179e\"],[0.4444444444444444,\"#bd3786\"],[0.5555555555555556,\"#d8576b\"],[0.6666666666666666,\"#ed7953\"],[0.7777777777777778,\"#fb9f3a\"],[0.8888888888888888,\"#fdca26\"],[1.0,\"#f0f921\"]]}],\"mesh3d\":[{\"type\":\"mesh3d\",\"colorbar\":{\"outlinewidth\":0,\"ticks\":\"\"}}],\"scatter\":[{\"fillpattern\":{\"fillmode\":\"overlay\",\"size\":10,\"solidity\":0.2},\"type\":\"scatter\"}],\"parcoords\":[{\"type\":\"parcoords\",\"line\":{\"colorbar\":{\"outlinewidth\":0,\"ticks\":\"\"}}}],\"scatterpolargl\":[{\"type\":\"scatterpolargl\",\"marker\":{\"colorbar\":{\"outlinewidth\":0,\"ticks\":\"\"}}}],\"bar\":[{\"error_x\":{\"color\":\"#2a3f5f\"},\"error_y\":{\"color\":\"#2a3f5f\"},\"marker\":{\"line\":{\"color\":\"#E5ECF6\",\"width\":0.5},\"pattern\":{\"fillmode\":\"overlay\",\"size\":10,\"solidity\":0.2}},\"type\":\"bar\"}],\"scattergeo\":[{\"type\":\"scattergeo\",\"marker\":{\"colorbar\":{\"outlinewidth\":0,\"ticks\":\"\"}}}],\"scatterpolar\":[{\"type\":\"scatterpolar\",\"marker\":{\"colorbar\":{\"outlinewidth\":0,\"ticks\":\"\"}}}],\"histogram\":[{\"marker\":{\"pattern\":{\"fillmode\":\"overlay\",\"size\":10,\"solidity\":0.2}},\"type\":\"histogram\"}],\"scattergl\":[{\"type\":\"scattergl\",\"marker\":{\"colorbar\":{\"outlinewidth\":0,\"ticks\":\"\"}}}],\"scatter3d\":[{\"type\":\"scatter3d\",\"line\":{\"colorbar\":{\"outlinewidth\":0,\"ticks\":\"\"}},\"marker\":{\"colorbar\":{\"outlinewidth\":0,\"ticks\":\"\"}}}],\"scattermapbox\":[{\"type\":\"scattermapbox\",\"marker\":{\"colorbar\":{\"outlinewidth\":0,\"ticks\":\"\"}}}],\"scatterternary\":[{\"type\":\"scatterternary\",\"marker\":{\"colorbar\":{\"outlinewidth\":0,\"ticks\":\"\"}}}],\"scattercarpet\":[{\"type\":\"scattercarpet\",\"marker\":{\"colorbar\":{\"outlinewidth\":0,\"ticks\":\"\"}}}],\"carpet\":[{\"aaxis\":{\"endlinecolor\":\"#2a3f5f\",\"gridcolor\":\"white\",\"linecolor\":\"white\",\"minorgridcolor\":\"white\",\"startlinecolor\":\"#2a3f5f\"},\"baxis\":{\"endlinecolor\":\"#2a3f5f\",\"gridcolor\":\"white\",\"linecolor\":\"white\",\"minorgridcolor\":\"white\",\"startlinecolor\":\"#2a3f5f\"},\"type\":\"carpet\"}],\"table\":[{\"cells\":{\"fill\":{\"color\":\"#EBF0F8\"},\"line\":{\"color\":\"white\"}},\"header\":{\"fill\":{\"color\":\"#C8D4E3\"},\"line\":{\"color\":\"white\"}},\"type\":\"table\"}],\"barpolar\":[{\"marker\":{\"line\":{\"color\":\"#E5ECF6\",\"width\":0.5},\"pattern\":{\"fillmode\":\"overlay\",\"size\":10,\"solidity\":0.2}},\"type\":\"barpolar\"}],\"pie\":[{\"automargin\":true,\"type\":\"pie\"}]},\"layout\":{\"autotypenumbers\":\"strict\",\"colorway\":[\"#636efa\",\"#EF553B\",\"#00cc96\",\"#ab63fa\",\"#FFA15A\",\"#19d3f3\",\"#FF6692\",\"#B6E880\",\"#FF97FF\",\"#FECB52\"],\"font\":{\"color\":\"#2a3f5f\"},\"hovermode\":\"closest\",\"hoverlabel\":{\"align\":\"left\"},\"paper_bgcolor\":\"white\",\"plot_bgcolor\":\"#E5ECF6\",\"polar\":{\"bgcolor\":\"#E5ECF6\",\"angularaxis\":{\"gridcolor\":\"white\",\"linecolor\":\"white\",\"ticks\":\"\"},\"radialaxis\":{\"gridcolor\":\"white\",\"linecolor\":\"white\",\"ticks\":\"\"}},\"ternary\":{\"bgcolor\":\"#E5ECF6\",\"aaxis\":{\"gridcolor\":\"white\",\"linecolor\":\"white\",\"ticks\":\"\"},\"baxis\":{\"gridcolor\":\"white\",\"linecolor\":\"white\",\"ticks\":\"\"},\"caxis\":{\"gridcolor\":\"white\",\"linecolor\":\"white\",\"ticks\":\"\"}},\"coloraxis\":{\"colorbar\":{\"outlinewidth\":0,\"ticks\":\"\"}},\"colorscale\":{\"sequential\":[[0.0,\"#0d0887\"],[0.1111111111111111,\"#46039f\"],[0.2222222222222222,\"#7201a8\"],[0.3333333333333333,\"#9c179e\"],[0.4444444444444444,\"#bd3786\"],[0.5555555555555556,\"#d8576b\"],[0.6666666666666666,\"#ed7953\"],[0.7777777777777778,\"#fb9f3a\"],[0.8888888888888888,\"#fdca26\"],[1.0,\"#f0f921\"]],\"sequentialminus\":[[0.0,\"#0d0887\"],[0.1111111111111111,\"#46039f\"],[0.2222222222222222,\"#7201a8\"],[0.3333333333333333,\"#9c179e\"],[0.4444444444444444,\"#bd3786\"],[0.5555555555555556,\"#d8576b\"],[0.6666666666666666,\"#ed7953\"],[0.7777777777777778,\"#fb9f3a\"],[0.8888888888888888,\"#fdca26\"],[1.0,\"#f0f921\"]],\"diverging\":[[0,\"#8e0152\"],[0.1,\"#c51b7d\"],[0.2,\"#de77ae\"],[0.3,\"#f1b6da\"],[0.4,\"#fde0ef\"],[0.5,\"#f7f7f7\"],[0.6,\"#e6f5d0\"],[0.7,\"#b8e186\"],[0.8,\"#7fbc41\"],[0.9,\"#4d9221\"],[1,\"#276419\"]]},\"xaxis\":{\"gridcolor\":\"white\",\"linecolor\":\"white\",\"ticks\":\"\",\"title\":{\"standoff\":15},\"zerolinecolor\":\"white\",\"automargin\":true,\"zerolinewidth\":2},\"yaxis\":{\"gridcolor\":\"white\",\"linecolor\":\"white\",\"ticks\":\"\",\"title\":{\"standoff\":15},\"zerolinecolor\":\"white\",\"automargin\":true,\"zerolinewidth\":2},\"scene\":{\"xaxis\":{\"backgroundcolor\":\"#E5ECF6\",\"gridcolor\":\"white\",\"linecolor\":\"white\",\"showbackground\":true,\"ticks\":\"\",\"zerolinecolor\":\"white\",\"gridwidth\":2},\"yaxis\":{\"backgroundcolor\":\"#E5ECF6\",\"gridcolor\":\"white\",\"linecolor\":\"white\",\"showbackground\":true,\"ticks\":\"\",\"zerolinecolor\":\"white\",\"gridwidth\":2},\"zaxis\":{\"backgroundcolor\":\"#E5ECF6\",\"gridcolor\":\"white\",\"linecolor\":\"white\",\"showbackground\":true,\"ticks\":\"\",\"zerolinecolor\":\"white\",\"gridwidth\":2}},\"shapedefaults\":{\"line\":{\"color\":\"#2a3f5f\"}},\"annotationdefaults\":{\"arrowcolor\":\"#2a3f5f\",\"arrowhead\":0,\"arrowwidth\":1},\"geo\":{\"bgcolor\":\"white\",\"landcolor\":\"#E5ECF6\",\"subunitcolor\":\"white\",\"showland\":true,\"showlakes\":true,\"lakecolor\":\"white\"},\"title\":{\"x\":0.05},\"mapbox\":{\"style\":\"light\"}}},\"xaxis\":{\"anchor\":\"y\",\"domain\":[0.0,1.0],\"title\":{\"text\":\"Date\"}},\"yaxis\":{\"anchor\":\"x\",\"domain\":[0.0,1.0],\"title\":{\"text\":\"Opening Price\"}},\"title\":{\"text\":\"Time Series of Opening Prices\"},\"legend\":{\"title\":{\"text\":\"Ticker\"}},\"showlegend\":true},                        {\"responsive\": true}                    ).then(function(){\n",
              "                            \n",
              "var gd = document.getElementById('0b3b02bd-ca7c-4326-b100-2405bf13d140');\n",
              "var x = new MutationObserver(function (mutations, observer) {{\n",
              "        var display = window.getComputedStyle(gd).display;\n",
              "        if (!display || display === 'none') {{\n",
              "            console.log([gd, 'removed!']);\n",
              "            Plotly.purge(gd);\n",
              "            observer.disconnect();\n",
              "        }}\n",
              "}});\n",
              "\n",
              "// Listen for the removal of the full notebook cells\n",
              "var notebookContainer = gd.closest('#notebook-container');\n",
              "if (notebookContainer) {{\n",
              "    x.observe(notebookContainer, {childList: true});\n",
              "}}\n",
              "\n",
              "// Listen for the clearing of the current output cell\n",
              "var outputEl = gd.closest('.output');\n",
              "if (outputEl) {{\n",
              "    x.observe(outputEl, {childList: true});\n",
              "}}\n",
              "\n",
              "                        })                };                            </script>        </div>\n",
              "</body>\n",
              "</html>"
            ]
          },
          "metadata": {}
        }
      ],
      "source": [
        "import pandas as pd\n",
        "import plotly.graph_objects as go\n",
        "from plotly.subplots import make_subplots\n",
        "import plotly.io as pio\n",
        "\n",
        "# Time Series Analysis\n",
        "clean_data['Date'] = pd.to_datetime(clean_data['Date'], dayfirst=True)\n",
        "pivot_data = clean_data.pivot(index='Date', columns='Ticker', values='Open')\n",
        "\n",
        "# Create a subplot\n",
        "fig = make_subplots(rows=1, cols=1)\n",
        "\n",
        "# Add traces for each stock ticker\n",
        "for column in pivot_data.columns:\n",
        "    fig.add_trace(\n",
        "        go.Scatter(x=pivot_data.index, y=pivot_data[column], name=column),\n",
        "        row=1, col=1\n",
        "    )\n",
        "\n",
        "# Update layout\n",
        "fig.update_layout(\n",
        "    title_text='Time Series of Opening Prices',\n",
        "    xaxis_title='Date',\n",
        "    yaxis_title='Opening Price',\n",
        "    legend_title='Ticker',\n",
        "    showlegend=True\n",
        ")\n",
        "\n",
        "\n",
        "# Show the plot\n",
        "fig.show()\n"
      ]
    },
    {
      "cell_type": "markdown",
      "metadata": {
        "id": "K_C3sEUAZ5gE"
      },
      "source": [
        "- The above plot displays the time series of the opening prices for each stock (AAPL, GOOG, MSFT, NFLX) over the observed period."
      ]
    },
    {
      "cell_type": "code",
      "execution_count": 18,
      "metadata": {
        "colab": {
          "base_uri": "https://localhost:8080/",
          "height": 373
        },
        "id": "RPOloerKZ5gE",
        "outputId": "ca875521-b883-4cc3-a398-e5267826affc"
      },
      "outputs": [
        {
          "output_type": "error",
          "ename": "ValueError",
          "evalue": "time data \"13-02-2023\" doesn't match format \"%m-%d-%Y\", at position 4. You might want to try:\n    - passing `format` if your strings have a consistent format;\n    - passing `format='ISO8601'` if your strings are all ISO8601 but not necessarily in exactly the same format;\n    - passing `format='mixed'`, and the format will be inferred for each element individually. You might want to use `dayfirst` alongside this.",
          "traceback": [
            "\u001b[0;31m---------------------------------------------------------------------------\u001b[0m",
            "\u001b[0;31mValueError\u001b[0m                                Traceback (most recent call last)",
            "\u001b[0;32m<ipython-input-18-6b31820c03e3>\u001b[0m in \u001b[0;36m<cell line: 2>\u001b[0;34m()\u001b[0m\n\u001b[1;32m      1\u001b[0m \u001b[0;31m# Time Series Analysis\u001b[0m\u001b[0;34m\u001b[0m\u001b[0;34m\u001b[0m\u001b[0m\n\u001b[0;32m----> 2\u001b[0;31m \u001b[0mclean_data\u001b[0m\u001b[0;34m[\u001b[0m\u001b[0;34m'Date'\u001b[0m\u001b[0;34m]\u001b[0m \u001b[0;34m=\u001b[0m \u001b[0mpd\u001b[0m\u001b[0;34m.\u001b[0m\u001b[0mto_datetime\u001b[0m\u001b[0;34m(\u001b[0m\u001b[0mclean_data\u001b[0m\u001b[0;34m[\u001b[0m\u001b[0;34m'Date'\u001b[0m\u001b[0;34m]\u001b[0m\u001b[0;34m)\u001b[0m\u001b[0;34m\u001b[0m\u001b[0;34m\u001b[0m\u001b[0m\n\u001b[0m\u001b[1;32m      3\u001b[0m \u001b[0mpivot_data\u001b[0m \u001b[0;34m=\u001b[0m \u001b[0mclean_data\u001b[0m\u001b[0;34m.\u001b[0m\u001b[0mpivot\u001b[0m\u001b[0;34m(\u001b[0m\u001b[0mindex\u001b[0m\u001b[0;34m=\u001b[0m\u001b[0;34m'Date'\u001b[0m\u001b[0;34m,\u001b[0m \u001b[0mcolumns\u001b[0m\u001b[0;34m=\u001b[0m\u001b[0;34m'Ticker'\u001b[0m\u001b[0;34m,\u001b[0m \u001b[0mvalues\u001b[0m\u001b[0;34m=\u001b[0m\u001b[0;34m'Close'\u001b[0m\u001b[0;34m)\u001b[0m\u001b[0;34m\u001b[0m\u001b[0;34m\u001b[0m\u001b[0m\n\u001b[1;32m      4\u001b[0m \u001b[0;34m\u001b[0m\u001b[0m\n\u001b[1;32m      5\u001b[0m \u001b[0;31m# Create a subplot\u001b[0m\u001b[0;34m\u001b[0m\u001b[0;34m\u001b[0m\u001b[0m\n",
            "\u001b[0;32m/usr/local/lib/python3.10/dist-packages/pandas/core/tools/datetimes.py\u001b[0m in \u001b[0;36mto_datetime\u001b[0;34m(arg, errors, dayfirst, yearfirst, utc, format, exact, unit, infer_datetime_format, origin, cache)\u001b[0m\n\u001b[1;32m   1048\u001b[0m             \u001b[0mresult\u001b[0m \u001b[0;34m=\u001b[0m \u001b[0marg\u001b[0m\u001b[0;34m.\u001b[0m\u001b[0mmap\u001b[0m\u001b[0;34m(\u001b[0m\u001b[0mcache_array\u001b[0m\u001b[0;34m)\u001b[0m\u001b[0;34m\u001b[0m\u001b[0;34m\u001b[0m\u001b[0m\n\u001b[1;32m   1049\u001b[0m         \u001b[0;32melse\u001b[0m\u001b[0;34m:\u001b[0m\u001b[0;34m\u001b[0m\u001b[0;34m\u001b[0m\u001b[0m\n\u001b[0;32m-> 1050\u001b[0;31m             \u001b[0mvalues\u001b[0m \u001b[0;34m=\u001b[0m \u001b[0mconvert_listlike\u001b[0m\u001b[0;34m(\u001b[0m\u001b[0marg\u001b[0m\u001b[0;34m.\u001b[0m\u001b[0m_values\u001b[0m\u001b[0;34m,\u001b[0m \u001b[0mformat\u001b[0m\u001b[0;34m)\u001b[0m\u001b[0;34m\u001b[0m\u001b[0;34m\u001b[0m\u001b[0m\n\u001b[0m\u001b[1;32m   1051\u001b[0m             \u001b[0mresult\u001b[0m \u001b[0;34m=\u001b[0m \u001b[0marg\u001b[0m\u001b[0;34m.\u001b[0m\u001b[0m_constructor\u001b[0m\u001b[0;34m(\u001b[0m\u001b[0mvalues\u001b[0m\u001b[0;34m,\u001b[0m \u001b[0mindex\u001b[0m\u001b[0;34m=\u001b[0m\u001b[0marg\u001b[0m\u001b[0;34m.\u001b[0m\u001b[0mindex\u001b[0m\u001b[0;34m,\u001b[0m \u001b[0mname\u001b[0m\u001b[0;34m=\u001b[0m\u001b[0marg\u001b[0m\u001b[0;34m.\u001b[0m\u001b[0mname\u001b[0m\u001b[0;34m)\u001b[0m\u001b[0;34m\u001b[0m\u001b[0;34m\u001b[0m\u001b[0m\n\u001b[1;32m   1052\u001b[0m     \u001b[0;32melif\u001b[0m \u001b[0misinstance\u001b[0m\u001b[0;34m(\u001b[0m\u001b[0marg\u001b[0m\u001b[0;34m,\u001b[0m \u001b[0;34m(\u001b[0m\u001b[0mABCDataFrame\u001b[0m\u001b[0;34m,\u001b[0m \u001b[0mabc\u001b[0m\u001b[0;34m.\u001b[0m\u001b[0mMutableMapping\u001b[0m\u001b[0;34m)\u001b[0m\u001b[0;34m)\u001b[0m\u001b[0;34m:\u001b[0m\u001b[0;34m\u001b[0m\u001b[0;34m\u001b[0m\u001b[0m\n",
            "\u001b[0;32m/usr/local/lib/python3.10/dist-packages/pandas/core/tools/datetimes.py\u001b[0m in \u001b[0;36m_convert_listlike_datetimes\u001b[0;34m(arg, format, name, utc, unit, errors, dayfirst, yearfirst, exact)\u001b[0m\n\u001b[1;32m    451\u001b[0m     \u001b[0;31m# `format` could be inferred, or user didn't ask for mixed-format parsing.\u001b[0m\u001b[0;34m\u001b[0m\u001b[0;34m\u001b[0m\u001b[0m\n\u001b[1;32m    452\u001b[0m     \u001b[0;32mif\u001b[0m \u001b[0mformat\u001b[0m \u001b[0;32mis\u001b[0m \u001b[0;32mnot\u001b[0m \u001b[0;32mNone\u001b[0m \u001b[0;32mand\u001b[0m \u001b[0mformat\u001b[0m \u001b[0;34m!=\u001b[0m \u001b[0;34m\"mixed\"\u001b[0m\u001b[0;34m:\u001b[0m\u001b[0;34m\u001b[0m\u001b[0;34m\u001b[0m\u001b[0m\n\u001b[0;32m--> 453\u001b[0;31m         \u001b[0;32mreturn\u001b[0m \u001b[0m_array_strptime_with_fallback\u001b[0m\u001b[0;34m(\u001b[0m\u001b[0marg\u001b[0m\u001b[0;34m,\u001b[0m \u001b[0mname\u001b[0m\u001b[0;34m,\u001b[0m \u001b[0mutc\u001b[0m\u001b[0;34m,\u001b[0m \u001b[0mformat\u001b[0m\u001b[0;34m,\u001b[0m \u001b[0mexact\u001b[0m\u001b[0;34m,\u001b[0m \u001b[0merrors\u001b[0m\u001b[0;34m)\u001b[0m\u001b[0;34m\u001b[0m\u001b[0;34m\u001b[0m\u001b[0m\n\u001b[0m\u001b[1;32m    454\u001b[0m \u001b[0;34m\u001b[0m\u001b[0m\n\u001b[1;32m    455\u001b[0m     result, tz_parsed = objects_to_datetime64ns(\n",
            "\u001b[0;32m/usr/local/lib/python3.10/dist-packages/pandas/core/tools/datetimes.py\u001b[0m in \u001b[0;36m_array_strptime_with_fallback\u001b[0;34m(arg, name, utc, fmt, exact, errors)\u001b[0m\n\u001b[1;32m    482\u001b[0m     \u001b[0mCall\u001b[0m \u001b[0marray_strptime\u001b[0m\u001b[0;34m,\u001b[0m \u001b[0;32mwith\u001b[0m \u001b[0mfallback\u001b[0m \u001b[0mbehavior\u001b[0m \u001b[0mdepending\u001b[0m \u001b[0mon\u001b[0m \u001b[0;34m'errors'\u001b[0m\u001b[0;34m.\u001b[0m\u001b[0;34m\u001b[0m\u001b[0;34m\u001b[0m\u001b[0m\n\u001b[1;32m    483\u001b[0m     \"\"\"\n\u001b[0;32m--> 484\u001b[0;31m     \u001b[0mresult\u001b[0m\u001b[0;34m,\u001b[0m \u001b[0mtimezones\u001b[0m \u001b[0;34m=\u001b[0m \u001b[0marray_strptime\u001b[0m\u001b[0;34m(\u001b[0m\u001b[0marg\u001b[0m\u001b[0;34m,\u001b[0m \u001b[0mfmt\u001b[0m\u001b[0;34m,\u001b[0m \u001b[0mexact\u001b[0m\u001b[0;34m=\u001b[0m\u001b[0mexact\u001b[0m\u001b[0;34m,\u001b[0m \u001b[0merrors\u001b[0m\u001b[0;34m=\u001b[0m\u001b[0merrors\u001b[0m\u001b[0;34m,\u001b[0m \u001b[0mutc\u001b[0m\u001b[0;34m=\u001b[0m\u001b[0mutc\u001b[0m\u001b[0;34m)\u001b[0m\u001b[0;34m\u001b[0m\u001b[0;34m\u001b[0m\u001b[0m\n\u001b[0m\u001b[1;32m    485\u001b[0m     \u001b[0;32mif\u001b[0m \u001b[0many\u001b[0m\u001b[0;34m(\u001b[0m\u001b[0mtz\u001b[0m \u001b[0;32mis\u001b[0m \u001b[0;32mnot\u001b[0m \u001b[0;32mNone\u001b[0m \u001b[0;32mfor\u001b[0m \u001b[0mtz\u001b[0m \u001b[0;32min\u001b[0m \u001b[0mtimezones\u001b[0m\u001b[0;34m)\u001b[0m\u001b[0;34m:\u001b[0m\u001b[0;34m\u001b[0m\u001b[0;34m\u001b[0m\u001b[0m\n\u001b[1;32m    486\u001b[0m         \u001b[0;32mreturn\u001b[0m \u001b[0m_return_parsed_timezone_results\u001b[0m\u001b[0;34m(\u001b[0m\u001b[0mresult\u001b[0m\u001b[0;34m,\u001b[0m \u001b[0mtimezones\u001b[0m\u001b[0;34m,\u001b[0m \u001b[0mutc\u001b[0m\u001b[0;34m,\u001b[0m \u001b[0mname\u001b[0m\u001b[0;34m)\u001b[0m\u001b[0;34m\u001b[0m\u001b[0;34m\u001b[0m\u001b[0m\n",
            "\u001b[0;32m/usr/local/lib/python3.10/dist-packages/pandas/_libs/tslibs/strptime.pyx\u001b[0m in \u001b[0;36mpandas._libs.tslibs.strptime.array_strptime\u001b[0;34m()\u001b[0m\n",
            "\u001b[0;32m/usr/local/lib/python3.10/dist-packages/pandas/_libs/tslibs/strptime.pyx\u001b[0m in \u001b[0;36mpandas._libs.tslibs.strptime.array_strptime\u001b[0;34m()\u001b[0m\n",
            "\u001b[0;31mValueError\u001b[0m: time data \"13-02-2023\" doesn't match format \"%m-%d-%Y\", at position 4. You might want to try:\n    - passing `format` if your strings have a consistent format;\n    - passing `format='ISO8601'` if your strings are all ISO8601 but not necessarily in exactly the same format;\n    - passing `format='mixed'`, and the format will be inferred for each element individually. You might want to use `dayfirst` alongside this."
          ]
        }
      ],
      "source": [
        "# Time Series Analysis\n",
        "clean_data['Date'] = pd.to_datetime(clean_data['Date'])\n",
        "pivot_data = clean_data.pivot(index='Date', columns='Ticker', values='Close')\n",
        "\n",
        "# Create a subplot\n",
        "fig = make_subplots(rows=1, cols=1)\n",
        "\n",
        "# Add traces for each stock ticker\n",
        "for column in pivot_data.columns:\n",
        "    fig.add_trace(\n",
        "        go.Scatter(x=pivot_data.index, y=pivot_data[column], name=column),\n",
        "        row=1, col=1\n",
        "    )\n",
        "\n",
        "# Update layout\n",
        "fig.update_layout(\n",
        "    title_text='Time Series of Closing Prices',\n",
        "    xaxis_title='Date',\n",
        "    yaxis_title='Closing Price',\n",
        "    legend_title='Ticker',\n",
        "    showlegend=True\n",
        ")\n",
        "\n",
        "# Show the plot\n",
        "fig.show()"
      ]
    },
    {
      "cell_type": "markdown",
      "metadata": {
        "id": "gwpr4MomZ5gE"
      },
      "source": [
        "The above plot displays the time series of the closing prices for each stock (AAPL, GOOG, MSFT, NFLX) over the observed period. Here are some key observations:\n",
        "\n",
        "- Trend: Each stock shows its unique trend over time. For instance, AAPL and MSFT exhibit a general upward trend in this period.\n",
        "- Volatility: There is noticeable volatility in the stock prices. For example, NFLX shows more pronounced fluctuations compared to others.\n",
        "- Comparative Performance: When comparing the stocks, MSFT and NFLX generally trade at higher price levels than AAPL and GOOG in this dataset.\n",
        "\n",
        " By observing above two graphs we can say that the opening stock price changes and closing stock price changes over time are almost same."
      ]
    },
    {
      "cell_type": "markdown",
      "metadata": {
        "id": "k6bEDbugZ5gE"
      },
      "source": [
        "# Volatality Analysis"
      ]
    },
    {
      "cell_type": "code",
      "execution_count": null,
      "metadata": {
        "id": "ahse8eOmZ5gE"
      },
      "outputs": [],
      "source": [
        "# Volatility Analysis\n",
        "volatility = pivot_data.std().sort_values(ascending=False)\n",
        "\n",
        "fig = px.bar(volatility,\n",
        "             x=volatility.index,\n",
        "             y=volatility.values,\n",
        "             labels={'y': 'Standard Deviation', 'x': 'Ticker'},\n",
        "             title='Volatility of Closing Prices (Standard Deviation)')\n",
        "\n",
        "# Show the figure\n",
        "fig.show()"
      ]
    },
    {
      "cell_type": "markdown",
      "metadata": {
        "id": "6_uV3DuzZ5gF"
      },
      "source": [
        "The bar chart and the accompanying data show the volatility (measured as standard deviation) of the closing prices for each stock. Here’s how they rank in terms of volatility:\n",
        "\n",
        "- NFLX: Highest volatility with a standard deviation of approximately 18.55.\n",
        "- MSFT: Next highest, with a standard deviation of around 17.68.\n",
        "- AAPL: Lower volatility compared to NFLX and MSFT, with a standard deviation of about 7.36.\n",
        "- GOOG: The least volatile in this set, with a standard deviation of approximately 6.28.\n",
        "  \n",
        "  It indicates that NFLX and MSFT stocks were more prone to price fluctuations during this period compared to AAPL and GOOG."
      ]
    },
    {
      "cell_type": "markdown",
      "metadata": {
        "id": "eADbRTteZ5gN"
      },
      "source": [
        "# Correlation Analysis\n",
        "Next, we’ll perform a Correlation Analysis to understand how the stock prices of these companies are related to each other:"
      ]
    },
    {
      "cell_type": "code",
      "execution_count": null,
      "metadata": {
        "id": "3Ab71zvlZ5gN"
      },
      "outputs": [],
      "source": [
        "#getting correlation values\n",
        "correlation_matrix = pivot_data.corr()\n",
        "print(correlation_matrix)"
      ]
    },
    {
      "cell_type": "code",
      "execution_count": null,
      "metadata": {
        "id": "GI0ijHCRZ5gO"
      },
      "outputs": [],
      "source": [
        "# Correlation Analysis\n",
        "correlation_matrix = pivot_data.corr()\n",
        "\n",
        "fig = go.Figure(data=go.Heatmap(\n",
        "                    z=correlation_matrix,\n",
        "                    x=correlation_matrix.columns,\n",
        "                    y=correlation_matrix.columns,\n",
        "                    colorscale='blues',\n",
        "                    colorbar=dict(title='Correlation'),\n",
        "                    ))\n",
        "\n",
        "# Update layout\n",
        "fig.update_layout(\n",
        "    title='Correlation Matrix of Closing Prices',\n",
        "    xaxis_title='Ticker',\n",
        "    yaxis_title='Ticker'\n",
        ")\n",
        "\n",
        "# Show the figure\n",
        "fig.show()"
      ]
    },
    {
      "cell_type": "markdown",
      "metadata": {
        "id": "Lf62NUgIZ5gO"
      },
      "source": [
        "The heatmap above displays the correlation matrix of the closing prices of the four stocks (AAPL, GOOG, MSFT, NFLX). Here’s what the correlation coefficients suggest:\n",
        "- Values close to +1 indicate a strong positive correlation, meaning that as one stock’s price increases, the other tends to increase as well.\n",
        "- Values close to -1 indicate a strong negative correlation, where one stock’s price increase corresponds to a decrease in the other.\n",
        "- Values around 0 indicate a lack of correlation.\n",
        "\n",
        "From the heatmap, we can observe that there are varying degrees of positive correlations between the stock prices, with some pairs showing stronger correlations than others. For instance, AAPL and MSFT seem to have a relatively higher positive correlation.\n",
        "\n"
      ]
    },
    {
      "cell_type": "markdown",
      "metadata": {
        "id": "J7cwmCnrZ5gP"
      },
      "source": [
        "# Comparative Analysis\n",
        "Now, let’s move on to Comparative Analysis. In this step, we’ll compare the performance of different stocks based on their returns over the period. We’ll calculate the percentage change in closing prices from the start to the end of the period for each stock:"
      ]
    },
    {
      "cell_type": "code",
      "execution_count": null,
      "metadata": {
        "id": "iaCHbqzaZ5gP"
      },
      "outputs": [],
      "source": [
        "# Calculating the percentage change in closing prices\n",
        "percentage_change = ((pivot_data.iloc[-1] - pivot_data.iloc[0]) / pivot_data.iloc[0]) * 100\n",
        "print(percentage_change)\n",
        "fig = px.bar(percentage_change,\n",
        "             x=percentage_change.index,\n",
        "             y=percentage_change.values,\n",
        "             labels={'y': 'Percentage Change (%)', 'x': 'Ticker'},\n",
        "             title='Percentage Change in Closing Prices')\n",
        "\n",
        "# Show the plot\n",
        "fig.show()"
      ]
    },
    {
      "cell_type": "markdown",
      "metadata": {
        "id": "M6rY3AqPZ5gP"
      },
      "source": [
        "The bar chart and the accompanying data show the percentage change in the closing prices of the stocks from the start to the end of the observed period:\n",
        "\n",
        "- GOOG: The highest positive change of approximately 16.25%.\n",
        "- MSFT: Showed a positive change of approximately 15.11%.\n",
        "- AAPL: Showed a positive change of approximately 10.17%.\n",
        "- NFLX: Showed a positive change of approximately 5.59%"
      ]
    },
    {
      "cell_type": "markdown",
      "metadata": {
        "id": "wsaAakxCZ5gP"
      },
      "source": [
        "# Daily Risk Vs. Return Analysis\n",
        "To perform a Risk vs. Return Analysis, we will calculate the average daily return and the standard deviation of daily returns for each stock. The standard deviation will serve as a proxy for risk, while the average daily return represents the expected return.\n",
        "\n",
        "We will then plot these values to visually assess the risk-return profile of each stock. Stocks with higher average returns and lower risk (standard deviation) are generally more desirable, but investment decisions often depend on the investor’s risk tolerance:"
      ]
    },
    {
      "cell_type": "code",
      "execution_count": null,
      "metadata": {
        "id": "dwNlGvhWZ5gP"
      },
      "outputs": [],
      "source": [
        "daily_returns = pivot_data.pct_change()\n",
        "\n",
        "# Recalculating average daily return and standard deviation (risk)\n",
        "avg_daily_return = daily_returns.mean()\n",
        "risk = daily_returns.std()\n",
        "\n",
        "# Creating a DataFrame for plotting\n",
        "risk_return_df = pd.DataFrame({'Risk': risk, 'Average Daily Return': avg_daily_return})\n",
        "\n",
        "fig = go.Figure()\n",
        "\n",
        "# Add scatter plot points\n",
        "fig.add_trace(go.Scatter(\n",
        "    x=risk_return_df['Risk'],\n",
        "    y=risk_return_df['Average Daily Return'],\n",
        "    mode='markers+text',\n",
        "    text=risk_return_df.index,\n",
        "    textposition=\"top center\",\n",
        "    marker=dict(size=10)\n",
        "))\n",
        "\n",
        "# Update layout\n",
        "fig.update_layout(\n",
        "    title='Risk vs. Return Analysis',\n",
        "    xaxis_title='Risk (Standard Deviation)',\n",
        "    yaxis_title='Average Daily Return',\n",
        "    showlegend=False\n",
        ")\n",
        "\n",
        "# Show the plot\n",
        "fig.show()"
      ]
    },
    {
      "cell_type": "markdown",
      "metadata": {
        "id": "0lOdr5vpZ5gP"
      },
      "source": [
        "## Conclusion\n",
        "So, AAPL shows the lowest risk combined with a low average daily return, suggesting a better stable investment with consistent returns. GOOG has higher volatility than AAPL and, on average, more daily return, but having more risk indicating a riskier and a little rewarding investment during this period.\n",
        "\n",
        "MSFT shows more risk with the highest average daily return, suggesting a not more rewarding investment. NFLX exhibits the highest risk and a low average daily return, indicating it was the most volatile and least rewarding investment among these stocks over the analyzed period."
      ]
    },
    {
      "cell_type": "code",
      "execution_count": null,
      "metadata": {
        "id": "muXhJ-khZ5gP"
      },
      "outputs": [],
      "source": []
    }
  ],
  "metadata": {
    "kernelspec": {
      "display_name": "Python 3",
      "language": "python",
      "name": "python3"
    },
    "language_info": {
      "codemirror_mode": {
        "name": "ipython",
        "version": 3
      },
      "file_extension": ".py",
      "mimetype": "text/x-python",
      "name": "python",
      "nbconvert_exporter": "python",
      "pygments_lexer": "ipython3",
      "version": "3.7.6"
    },
    "colab": {
      "provenance": []
    }
  },
  "nbformat": 4,
  "nbformat_minor": 0
}